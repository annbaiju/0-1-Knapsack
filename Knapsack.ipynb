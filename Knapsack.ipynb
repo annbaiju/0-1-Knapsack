{
 "cells": [
  {
   "cell_type": "markdown",
   "id": "fe21de10",
   "metadata": {},
   "source": [
    "# 0-1 Knapsack Problem"
   ]
  },
  {
   "cell_type": "markdown",
   "id": "fe8b1ce0",
   "metadata": {},
   "source": [
    "### This probelm can be solved by converting it into a quadratic program and an optimized solution can be obtained using a variational quatum algorithm"
   ]
  },
  {
   "cell_type": "markdown",
   "id": "fd26b308",
   "metadata": {},
   "source": [
    "### \n",
    "In this problem, the input is two arrays of values and weights. We are to obtain a solution  $x \\in \\{0,1\\}^n$ such that the values are optimised to be maximum.\n",
    "\n",
    "The function that we need to maximise can be written as $C(x) = \\sum_{i,j=1}^n V_{ij} x_i (1-x_j)$, where $V_{ij}$ is the value matrix and the constraint that we put is $W(x) = \\sum_{i,j=1}^n W_{ij} x $ is equal to the maximum weight allowed.\n",
    "\n",
    "The function that we need to maximise essentialy reduces down to $c^T x + x^T Q x$ where $Q_{ij} = -V_{ij}$ and $c_i = \\sum_{j=1}^n V_{ij}$\n",
    "\n",
    "Feeding this to the D wave system gives us an optimized value of x which is strings of 0's and 1's"
   ]
  },
  {
   "cell_type": "code",
   "execution_count": null,
   "id": "746ec6df",
   "metadata": {},
   "outputs": [],
   "source": []
  }
 ],
 "metadata": {
  "kernelspec": {
   "display_name": "Python 3",
   "language": "python",
   "name": "python3"
  },
  "language_info": {
   "codemirror_mode": {
    "name": "ipython",
    "version": 3
   },
   "file_extension": ".py",
   "mimetype": "text/x-python",
   "name": "python",
   "nbconvert_exporter": "python",
   "pygments_lexer": "ipython3",
   "version": "3.8.8"
  }
 },
 "nbformat": 4,
 "nbformat_minor": 5
}
